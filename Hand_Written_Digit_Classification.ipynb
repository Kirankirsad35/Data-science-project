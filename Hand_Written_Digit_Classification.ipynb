{
  "nbformat": 4,
  "nbformat_minor": 0,
  "metadata": {
    "colab": {
      "provenance": []
    },
    "kernelspec": {
      "name": "python3",
      "display_name": "Python 3"
    },
    "language_info": {
      "name": "python"
    }
  },
  "cells": [
    {
      "cell_type": "markdown",
      "source": [
        "# **Hand Written Digit Prediction-Classification Analysis**\n",
        "\n",
        "The digit dataset consists of 8x8 pixel image of digits. The images attribute of the dataset stores 8x8 arrays of grayscale values for each image. we will use these arrays to visualize the first 4 images. The target attribute of the dataset stores the digit each image represts"
      ],
      "metadata": {
        "id": "9MYQVdnbUrz6"
      }
    },
    {
      "cell_type": "markdown",
      "source": [
        "## **Import Library**"
      ],
      "metadata": {
        "id": "BwX6afeHVte5"
      }
    },
    {
      "cell_type": "code",
      "source": [
        "import pandas as pd"
      ],
      "metadata": {
        "id": "-V4C4jDdVrtI"
      },
      "execution_count": 1,
      "outputs": []
    },
    {
      "cell_type": "code",
      "source": [
        "import numpy as np"
      ],
      "metadata": {
        "id": "l2jTl9zcVr6K"
      },
      "execution_count": 2,
      "outputs": []
    },
    {
      "cell_type": "code",
      "source": [
        "import matplotlib.pyplot as plt\n"
      ],
      "metadata": {
        "id": "iEOxwgdNVr8F"
      },
      "execution_count": 3,
      "outputs": []
    },
    {
      "cell_type": "markdown",
      "source": [
        "## **Import Data**"
      ],
      "metadata": {
        "id": "vVDYKrS3V8o0"
      }
    },
    {
      "cell_type": "code",
      "source": [
        "from sklearn.datasets import load_digits"
      ],
      "metadata": {
        "id": "8uGzea_EVsAx"
      },
      "execution_count": 4,
      "outputs": []
    },
    {
      "cell_type": "code",
      "source": [
        "df = load_digits()"
      ],
      "metadata": {
        "id": "VSHQxlubVsCH"
      },
      "execution_count": 5,
      "outputs": []
    },
    {
      "cell_type": "code",
      "source": [
        "_, axes = plt.subplots(nrows=1, ncols=4, figsize=(10,3))\n",
        "for ax, image, label in zip(axes, df.images, df.target):\n",
        "  ax.set_axis_off()\n",
        "  ax.imshow(image, cmap=plt.cm.gray_r, interpolation='nearest')\n",
        "  ax.set_title('Training: %i' % label)"
      ],
      "metadata": {
        "colab": {
          "base_uri": "https://localhost:8080/",
          "height": 247
        },
        "id": "vYT5MeSXVsGp",
        "outputId": "e5d1425f-b956-4fde-8af4-f490ef63a3bd"
      },
      "execution_count": 6,
      "outputs": [
        {
          "output_type": "display_data",
          "data": {
            "text/plain": [
              "<Figure size 1000x300 with 4 Axes>"
            ],
            "image/png": "[encoded data removed]"
          },
          "metadata": {}
        }
      ]
    },
    {
      "cell_type": "markdown",
      "source": [
        "## **Data Preprocessing**\n",
        "\n"
      ],
      "metadata": {
        "id": "S0_8T0wDXS9G"
      }
    },
    {
      "cell_type": "markdown",
      "source": [
        "Flatten Image"
      ],
      "metadata": {
        "id": "a1Iq-JUccSFV"
      }
    },
    {
      "cell_type": "markdown",
      "source": [
        "![Untitled.png](data:image/png;base64,iVBORw0KGgoAAAANSUhEUgAAApcAAAHFCAYAAACnwtLwAAAAAXNSR0IArs4c6QAAAARnQU1BAACxjwv8YQUAAAAJcEhZcwAAEnQAABJ0Ad5mH3gAABEYSURBVHhe7d2/bhvZwcbhM98F5CIC0QEEl6nIIm0kB8hWbt1RpdS4MxAEcOdGKqVuW1cOEEtpU4hVyoWBLIlcRG6A3ww5JEd/SdmvHJl6ngWRITmcIQlk9dszZ4bVtFYAACDg/9r/BQCAbyYuAQCIEZcAAMSISwAAYsQlAAAx4hIAgBhxCQBAjLgEACBGXAIAECMuAQCIEZcAAMSISwAAYsQlAAAx4hIAgBhxCQBAjLiELTO5OCiDQVWqanEblMHBRZm0z99mcjJYrj84ubbm5KQM7nrumq/Zd/2qcrJ4zeBkzboAPHXiErZIE4m9/bMyGrUPzIzK6Gy/9OrIu8vO4bsybJdHRx9Kd82LD0f1FhrD8u5wZ7Z0m6/dNwDbRVzC1rgoH47asusfl/F0WqbTcTlfVOPZpyvReNVeOV2tWN4vRignJ+X92Xyxf/y2Xusu37JvALaJuIQt1H/9qszHGHfK3k+Lwltj72057s8X56OXk3LyZrNRy66v2jcAW0Ncwtbold1uHM4GH+tAXAw9Dn+6Z+SxsVMO33VGLwdvymIwcnh+uua137rv61bzMA/qjV0cDJbzPqvBQZkNrE4uysGgM1f0+tzOycns+eXrZq8dlIMb80bn21+uc+V2sBpxnW2v+1yzrXXzSQGeoSmwPcbH07rxps3/ta/c+sfTcbvK/cbT4/5Xvvar993Z53LdW97HlVv/1n31jxd7uv/1w/N2tbX7GU5nq54Pb3muva02BkDNyCVsk53Dcnk+LO0g4lL/9Yt2aZ2d8ur11VevDnOv8c37vtvwfNz8h3AZ1yU4N6r/GZbz8Xxu5+Lh0cfP7Uhi/TneHZfj+nV1bs5e213v7FM7Hjn5XD7ORmf7pe7S+T6Wn6He/rQZsV2NwNbx2m5rvt7M2fv5SCoAM+IStsjskkLNGdv1cn9Yx9Vwnkmjo03P2O6cmNO6fvb4Xb5933cYnpfTvXYW56vXy3idHaqfPXwziBs7e6/Ki09vypvloeze8jD/gywDtPksveVh8ebM+PbR8mXcLgIgLmFrTE7Km7aempG+y9PDcnh6uRrtO9sv6xpvcvK+tGN05fi4M/9y3dBcYN9ZzZzNXtk/G127NNI1O6/KvEtH5ai3isbZSxbzRMdf5vfv1C+7vXYRAHEJW2MZQU3srA5kd0f7fvn1vkjsjFoO35XDw+7Z42/uP/T7zfsO64w2DjuHspeXRrqhX/qLN9osD8/L+LQ9Bam3u/wMw/PFIfbu7bJseCI9wLMgLmHrjMrHz6uQm3z+uBx5e/ni7gq6ONhfjVq+bcKqe/b4qBx92GTo8ev2HdcdbWynfE4uVtfsXLr4MD9U3n9dfr5cxeJlHZbLd7vzorxsF8/en7Rnwjcm7S8S+VUhgC5xCdti76fOr+x05gYuRiP7x2XWjLfpXCx9Nmq5KKu9086F0O85ceVb9v0YOu/nbH/+fnr7i2t23mJ0VHrte57dmksYLS9ttFferoZwy357+LyZw7k8hA7AkriErbFXTpszoof95WHcmX6/DI/Py/jy8M6zvrs/8Xi+OBzc2nt73G7vvtHLr9/346jfz/i8tOcUzfXrz7acR9rae3v7ofLR1Z+t3Dm8LOPz43p7VzY4O3Hp/Ofv/dkAnrZq2hwHAniOLg5mZ7g3I6urAG4uqt6cDNQsLy5HBMCmjFwCz9bFp+uTMOd+/aVd6O8WJ4IDPIyRS+DZaq7NuZwXeovm7PBrswQAWMPIJfBs7Rz+PJuHeWUqZa3fzM8cj4UlwFcwcgkAQIyRSwAAYsQlAAAx4hIAgBhxCQBAjLgEACBGXAIAECMuAQCIEZcAAMSISwAAYsQlAAAx4hIAgBhxCQBAjLgEACBGXAIAECMuAQCIEZcAAMSISwAAYqpprV0GNlBVVbsEz48/GcA64hIeqInL3/7tT+09eD7+8+e/i0tgLYfFAQCIEZcAAMSISwAAYsQlAAAx4hIAgBhxCQBAjLgEACBGXAIAECMuAQCIEZcAAMSISwAAYsQlAAAx4hIAgBhxCQBAjLgEACBGXAIAECMuAQCIEZcAAMSISwAAYsQlAAAx4hIAgBhxCQBAjLgEACBGXAIAECMuAQCIEZcAAMSISwAAYsQlAAAx4hIAgBhxCQBAjLgEACBGXAIAECMuAQCIEZcAAMSISwAAYsQlAAAx4hIAgBhxCQBAjLgEACCmmtbaZWADVVW1S/D8+JMBrCMu4YGauJz+t70Dz0j1G3EJrOewOAAAMeISAIAYcQkAQIy4BAAgRlwCABAjLgEAiBGXAADEiEsAAGLEJQAAMeISAIAYcQkAQIy4BAAgRlwCABAjLgEAiBGXAADEiEsAAGLEJQAAMeISAIAYcQkAQIy4BAAgRlwCABAjLgEAiBGXAADEiEsAAGLEJQAAMeISAIAYcQkAQIy4BAAgRlwCABAjLgEAiBGXAADEiEsAAGLEJQAAMeISAIAYcQkAQIy4BAAgRlwCABAjLgEAiBGXAADEVNNauwxsoKqqdgmeH38ygHXEJTxQE5fTv/yuvQfPR/XXf4tLYC2HxQEAiBGXAADEiEsAAGLEJQAAMeISAIAYcQkAQIy4BAAgRlwCABAjLgEAiBGXAADEiEsAAGLEJQAAMeISAIAYcQkAQIy4BAAgRlwCABAjLgEAiBGXAADEiEsAAGLEJQAAMeISAIAYcQkAQIy4BAAgRlwCABAjLgEAiBGXAADEiEsAAGLEJQAAMeISAIAYcQkAQIy4BAAgRlwCABAjLgEAiBGXAADEiEsAAGLEJQAAMeISAIAYcQkAQIy4BAAgpprW2mVgA1VVtUvw/PiTAawjLuGBmrj8wx//1d6D5+Of//i9uATWclgcAIAYcQkAQIy4BAAgRlwCABAjLgEAiBGXAADEiEsAAGLEJQAAMeISAIAYcQkAQIy4BAAgRlwCABAjLgEAiBGXAADEiEsAAGLEJQAAMeISAIAYcQkAQIy4BAAgRlwCABAjLgEAiBGXAADEiEsAAGLEJQAAMeISAIAYcQkAQIy4BAAgRlwCABAjLgEAiBGXAADEiEsAAGLEJQAAMeISAIAYcQkAQIy4BAAgRlwCABAjLgEAiBGXAADEiEsAAGKqaa1dBjZQVVW7BM+PPxnAOuISAIAYh8UBAIgRlwAAxIhLAABixCUAADHiEgCAGHEJAECMuAQAIEZcAgAQIy4BAIgRlwAAxIhLAABixCUAADHiEgCAGHEJAECMuAQAIEZcAgAQIy4BAIgRlwAAxIhLAABixCUAADHiEgCAGHEJAECMuAQAIEZcAgAQIy4BAIgRlwAAxIhLAABixCUAADHiEgCAGHEJAECMuAQAIEZcAgAQIy4BAIgRlwAAxIhLAABixCUAADHiEgCAGHEJAECMuAQAIEZcAgAQIy4BAIgRlwAAxIhLAABixCUAADHiEgCAGHEJAECMuAQAIEZcAgAQIy4BAIgRlwAAxIhLAABixCUAADHiEgCAGHEJAECMuAQAIEZcAgAQIy4BAIgRlwAAxIhLAABixCUAADHiEgCAGHEJAECMuAQAIEZcAgAQIy4BAIgRlwAAxIhLAABixCUAADHiEgCAGHEJAECMuAQAIEZcAgAQIy4BAIgRlwAAxIhLAABixCUAADHiEgCAGHEJAECMuAQAIEZcAgAQIy4BAIgRlwAAxIhLAABixCUAADHiEgCAGHEJAECMuAQAIEZcAgAQIy4BAIgRlwAAxIhLAABixCUAADHiEgCAGHEJZFwclKqqysFFex+AZ0lcAuu14Xjb7VnEpHAG2Ji4BDY2PJ+W6fTq7XSvfRIAauISeAIuykEzEnrr0OB9zwHw1IhLAABixCXwuG6Zr9kdhJycDOrH9stZc+dsv11nUE4m9z+30o5sdm43Bjln7+GgXrNZ7K57fVubm7+3ZpuTcjLobHOx88lJGSz3c8d8zTXfzcJ8X1fXm90GJ/XeFzb4HgC+A3EJPJpZFL3fLePOHM3zYdOJq6jbObysHz8v9cPNpM52vctyuHP/czOzgKvjc/lcfat3cLZflcGNajwr+3Vwvd8dt+uOy3F/VI568+j8Os02e+XLu9W+mwgeDOrP3ftS3rXv6fpnbmzy3TSa9XpHpRyP2/XGx6XfPNF85svDMvsqHvQ9ADwucQlsrImV7sjYYjTwLrM4XARQa+9tE0ej8vHzt0fPxYejekvDct49q2jvdBZpo4+fO6N6c80JSZfLMt0ph++abD0rn75hhK/Z5nL3e2/rYK33PXpZzqenZfXwzc+82XczKZ8/juqdvFsF9c5hmb3tX35dfr6Hfg8Aj0lcAhu7ebb4KqC+v4vyqTlePvzpxnvo7TaF96WM2/tz/bLbaxcXeruzUcBffv3a/Lplm43+brny8M6L8rJdzHvo9wDwuMQl8KhuzBfsNaNsQcu5mKtb7yi6h0ez/rvZKa9e14F49n51qHxyUt7XMdl//erKqOeP/D0A20VcAo+mOXnmynzB5raYM5jSnWd45fa/HFVdb7Pvpj0sXifnUW8VoPWLOof3Wz/o9wBsH3EJPJLF4drOfMGoXmmO+nbnHv44NvxuJp/LbMrltekIV8PyR/4egG0kLoFH0kbP2afOST8X5eDWw+L3BdJdz+2Uw5+PS390VHrXrrkzO9z8pK/Ds+F3087VvHkiVfcs8B/5ewC2kbgEHkkdPZfN5X7mlwCaR9H7sjtuHmtXWeoE0my97uV47nlu57BcNpcqujbfsPflXZk+6d+l3PS72SunzSnf1w9514+NjnqrwPxhvwdgG1X1v6im7TIAT0lz/crex/J63Lm250xz4fZeOXpZR6d4BJ4YI5cAT9Tk88cyKi/LixvzMsflixPBgSdKXAI8UTsvZjMuy/61eZMXB81PYvbL8VujlsDT47A4wFPW/P74fnNqedfwyi8AATwl4hIAgBiHxQEAiBGXAADEiEsAAGLEJQAAMeISAIAYcQkAQIy4BAAgRlwCABAjLgEAiBGXAADEiEsAAGLEJQAAMeISAIAYcQkAQIy4BAAgRlwCABAjLgEAiBGXAADEiEsAAGLEJQAAMeISAIAYcQkAQIy4BAAgRlwCABAjLgEAiBGXAADEiEsAAGLEJQAAMeISAIAYcQkAQIy4BAAgRlwCABAjLgEAiKmmtXb5UVVV1S4BAPCjeGgqfte4/O3f/tTeg6frP3/+e5n+t70DD1T9pv4X8V9+196D21V//Xf5wx//1d6Dp+uf//j9g+PSYXEAAGLEJQAAMeISAIAYcQkAQIy4BAAgRlwCABAjLgEAiBGXAADEiEsAAGLEJQAAMeISAIAYcQkAQIy4BAAgRlwCABAjLgEAiBGXAADEiEsAAGLEJQAAMeISAIAYcQkAQIy4BAAgRlwCABAjLgEAiBGXAADEiEsAAGLEJQAAMeISAIAYcQkAQIy4BAAgRlwCABAjLgEAiBGXAADEiEsAAGLEJQAAMdW01i4/qqqq2iUAAH4UD03F7xaXAABsP4fFAQCIEZcAAMSISwAAYsQlAAAx4hIAgBhxCQBAjLgEACBGXAIAECMuAQCIEZcAAMSISwAAYsQlAAAx4hIAgBhxCQBAjLgEACBGXAIAECMuAQCIEZcAAMSISwAAYsQlAAAx4hIAgBhxCQBAjLgEACBGXAIAECMuAQCIEZcAAMSISwAAYsQlAAAx4hIAgBhxCQBAjLgEACBGXAIAECMuAQCIEZcAAMSISwAAYsQlAAAx4hIAgBhxCQBAjLgEACBGXAIAECMuAQCIEZcAAMSISwAAYsQlAAAx4hIAgBhxCQBAjLgEACBGXAIAECMuAQCIEZcAAMSISwAAYsQlAAAx4hIAgJBS/h9SZD846OD5OAAAAABJRU5ErkJggg==)"
      ],
      "metadata": {
        "id": "7umlW7A2cHKN"
      }
    },
    {
      "cell_type": "code",
      "source": [
        "\n",
        "df.images.shape"
      ],
      "metadata": {
        "colab": {
          "base_uri": "https://localhost:8080/"
        },
        "id": "E6zTQyYIYi4G",
        "outputId": "1ca0fbae-50d3-4080-9572-81eac4c93d87"
      },
      "execution_count": 9,
      "outputs": [
        {
          "output_type": "execute_result",
          "data": {
            "text/plain": [
              "(1797, 8, 8)"
            ]
          },
          "metadata": {},
          "execution_count": 9
        }
      ]
    },
    {
      "cell_type": "code",
      "source": [
        "\n",
        "df.images[0]"
      ],
      "metadata": {
        "colab": {
          "base_uri": "https://localhost:8080/"
        },
        "id": "krNT0A3ZY26v",
        "outputId": "4d649f17-ce7a-4fcb-eac1-83d1bc45da92"
      },
      "execution_count": 10,
      "outputs": [
        {
          "output_type": "execute_result",
          "data": {
            "text/plain": [
              "array([[ 0.,  0.,  5., 13.,  9.,  1.,  0.,  0.],\n",
              "       [ 0.,  0., 13., 15., 10., 15.,  5.,  0.],\n",
              "       [ 0.,  3., 15.,  2.,  0., 11.,  8.,  0.],\n",
              "       [ 0.,  4., 12.,  0.,  0.,  8.,  8.,  0.],\n",
              "       [ 0.,  5.,  8.,  0.,  0.,  9.,  8.,  0.],\n",
              "       [ 0.,  4., 11.,  0.,  1., 12.,  7.,  0.],\n",
              "       [ 0.,  2., 14.,  5., 10., 12.,  0.,  0.],\n",
              "       [ 0.,  0.,  6., 13., 10.,  0.,  0.,  0.]])"
            ]
          },
          "metadata": {},
          "execution_count": 10
        }
      ]
    },
    {
      "cell_type": "code",
      "source": [
        "df.images[0].shape"
      ],
      "metadata": {
        "colab": {
          "base_uri": "https://localhost:8080/"
        },
        "id": "1q2UPKiPchOS",
        "outputId": "8bd6ae69-6e24-4275-f805-863321e4dd18"
      },
      "execution_count": 11,
      "outputs": [
        {
          "output_type": "execute_result",
          "data": {
            "text/plain": [
              "(8, 8)"
            ]
          },
          "metadata": {},
          "execution_count": 11
        }
      ]
    },
    {
      "cell_type": "code",
      "source": [
        "n_samples = len(df.images)\n",
        "data = df.images.reshape(n_samples, -1)"
      ],
      "metadata": {
        "id": "E5qOpHK7cnor"
      },
      "execution_count": 13,
      "outputs": []
    },
    {
      "cell_type": "code",
      "source": [
        "data[0]"
      ],
      "metadata": {
        "colab": {
          "base_uri": "https://localhost:8080/"
        },
        "id": "BADU6Gx5crzw",
        "outputId": "fc4d6142-dccf-4ac4-c6da-84ae0e349d74"
      },
      "execution_count": 14,
      "outputs": [
        {
          "output_type": "execute_result",
          "data": {
            "text/plain": [
              "array([ 0.,  0.,  5., 13.,  9.,  1.,  0.,  0.,  0.,  0., 13., 15., 10.,\n",
              "       15.,  5.,  0.,  0.,  3., 15.,  2.,  0., 11.,  8.,  0.,  0.,  4.,\n",
              "       12.,  0.,  0.,  8.,  8.,  0.,  0.,  5.,  8.,  0.,  0.,  9.,  8.,\n",
              "        0.,  0.,  4., 11.,  0.,  1., 12.,  7.,  0.,  0.,  2., 14.,  5.,\n",
              "       10., 12.,  0.,  0.,  0.,  0.,  6., 13., 10.,  0.,  0.,  0.])"
            ]
          },
          "metadata": {},
          "execution_count": 14
        }
      ]
    },
    {
      "cell_type": "code",
      "source": [
        "data[0].shape"
      ],
      "metadata": {
        "colab": {
          "base_uri": "https://localhost:8080/"
        },
        "id": "hzPiWIbXcta_",
        "outputId": "8a4769c7-9d16-48b6-bd1d-afa50b9e028d"
      },
      "execution_count": 15,
      "outputs": [
        {
          "output_type": "execute_result",
          "data": {
            "text/plain": [
              "(64,)"
            ]
          },
          "metadata": {},
          "execution_count": 15
        }
      ]
    },
    {
      "cell_type": "code",
      "source": [
        "data.shape"
      ],
      "metadata": {
        "colab": {
          "base_uri": "https://localhost:8080/"
        },
        "id": "kKtXfF5qcxbg",
        "outputId": "b96e2841-6e8e-4b6a-d5da-13a3d4d41c90"
      },
      "execution_count": 16,
      "outputs": [
        {
          "output_type": "execute_result",
          "data": {
            "text/plain": [
              "(1797, 64)"
            ]
          },
          "metadata": {},
          "execution_count": 16
        }
      ]
    },
    {
      "cell_type": "markdown",
      "source": [
        "# Scalling image data"
      ],
      "metadata": {
        "id": "TYonN4A4c2IX"
      }
    },
    {
      "cell_type": "code",
      "source": [
        "data.min()"
      ],
      "metadata": {
        "colab": {
          "base_uri": "https://localhost:8080/"
        },
        "id": "UvsGvN5NczHU",
        "outputId": "2cb4e0a2-4915-42b4-f383-90f3e922eaed"
      },
      "execution_count": 17,
      "outputs": [
        {
          "output_type": "execute_result",
          "data": {
            "text/plain": [
              "0.0"
            ]
          },
          "metadata": {},
          "execution_count": 17
        }
      ]
    },
    {
      "cell_type": "code",
      "source": [
        "data.max()"
      ],
      "metadata": {
        "colab": {
          "base_uri": "https://localhost:8080/"
        },
        "id": "j6cIl88Ec5pE",
        "outputId": "a1f7726c-ad34-4ff7-8a01-2bd87bf7417f"
      },
      "execution_count": 18,
      "outputs": [
        {
          "output_type": "execute_result",
          "data": {
            "text/plain": [
              "16.0"
            ]
          },
          "metadata": {},
          "execution_count": 18
        }
      ]
    },
    {
      "cell_type": "code",
      "source": [
        "data[0]"
      ],
      "metadata": {
        "colab": {
          "base_uri": "https://localhost:8080/"
        },
        "id": "jHIt1fUyc8C-",
        "outputId": "6ea8db49-2acc-41c3-8c1a-417f53392069"
      },
      "execution_count": 19,
      "outputs": [
        {
          "output_type": "execute_result",
          "data": {
            "text/plain": [
              "array([ 0.,  0.,  5., 13.,  9.,  1.,  0.,  0.,  0.,  0., 13., 15., 10.,\n",
              "       15.,  5.,  0.,  0.,  3., 15.,  2.,  0., 11.,  8.,  0.,  0.,  4.,\n",
              "       12.,  0.,  0.,  8.,  8.,  0.,  0.,  5.,  8.,  0.,  0.,  9.,  8.,\n",
              "        0.,  0.,  4., 11.,  0.,  1., 12.,  7.,  0.,  0.,  2., 14.,  5.,\n",
              "       10., 12.,  0.,  0.,  0.,  0.,  6., 13., 10.,  0.,  0.,  0.])"
            ]
          },
          "metadata": {},
          "execution_count": 19
        }
      ]
    },
    {
      "cell_type": "markdown",
      "source": [
        "# Train Test Split"
      ],
      "metadata": {
        "id": "s6-eYxomdBbQ"
      }
    },
    {
      "cell_type": "code",
      "source": [
        "from sklearn.model_selection import train_test_split"
      ],
      "metadata": {
        "id": "BRcNIvqxc-nF"
      },
      "execution_count": 20,
      "outputs": []
    },
    {
      "cell_type": "code",
      "source": [
        "X_train, X_test, y_train, y_test, = train_test_split(data, df.target, test_size=0.3)"
      ],
      "metadata": {
        "id": "J5ckCN6ddJMJ"
      },
      "execution_count": 21,
      "outputs": []
    },
    {
      "cell_type": "code",
      "source": [
        "X_train.shape, X_test.shape, y_train.shape, y_test.shape"
      ],
      "metadata": {
        "colab": {
          "base_uri": "https://localhost:8080/"
        },
        "id": "rbDMjHnWdMql",
        "outputId": "5c47b577-f9fd-4bbe-c605-07326b695f1b"
      },
      "execution_count": 22,
      "outputs": [
        {
          "output_type": "execute_result",
          "data": {
            "text/plain": [
              "((1257, 64), (540, 64), (1257,), (540,))"
            ]
          },
          "metadata": {},
          "execution_count": 22
        }
      ]
    },
    {
      "cell_type": "markdown",
      "source": [
        "# Random forest model"
      ],
      "metadata": {
        "id": "DdTDRdTadQeG"
      }
    },
    {
      "cell_type": "code",
      "source": [
        "from sklearn.ensemble import RandomForestClassifier"
      ],
      "metadata": {
        "id": "Iy7XwoCHdOZo"
      },
      "execution_count": 23,
      "outputs": []
    },
    {
      "cell_type": "code",
      "source": [
        "rf = RandomForestClassifier()"
      ],
      "metadata": {
        "id": "iIwDGdFLdVbe"
      },
      "execution_count": 24,
      "outputs": []
    },
    {
      "cell_type": "code",
      "source": [
        "rf.fit(X_train, y_train)"
      ],
      "metadata": {
        "colab": {
          "base_uri": "https://localhost:8080/",
          "height": 74
        },
        "id": "dzbD-LF0dYfj",
        "outputId": "0a032280-0cd7-4b5c-93a5-d94fdec1d545"
      },
      "execution_count": 25,
      "outputs": [
        {
          "output_type": "execute_result",
          "data": {
            "text/plain": [
              "RandomForestClassifier()"
            ],
            "text/html": [
              "<style>#sk-container-id-1 {color: black;background-color: white;}#sk-container-id-1 pre{padding: 0;}#sk-container-id-1 div.sk-toggleable {background-color: white;}#sk-container-id-1 label.sk-toggleable__label {cursor: pointer;display: block;width: 100%;margin-bottom: 0;padding: 0.3em;box-sizing: border-box;text-align: center;}#sk-container-id-1 label.sk-toggleable__label-arrow:before {content: \"▸\";float: left;margin-right: 0.25em;color: #696969;}#sk-container-id-1 label.sk-toggleable__label-arrow:hover:before {color: black;}#sk-container-id-1 div.sk-estimator:hover label.sk-toggleable__label-arrow:before {color: black;}#sk-container-id-1 div.sk-toggleable__content {max-height: 0;max-width: 0;overflow: hidden;text-align: left;background-color: #f0f8ff;}#sk-container-id-1 div.sk-toggleable__content pre {margin: 0.2em;color: black;border-radius: 0.25em;background-color: #f0f8ff;}#sk-container-id-1 input.sk-toggleable__control:checked~div.sk-toggleable__content {max-height: 200px;max-width: 100%;overflow: auto;}#sk-container-id-1 input.sk-toggleable__control:checked~label.sk-toggleable__label-arrow:before {content: \"▾\";}#sk-container-id-1 div.sk-estimator input.sk-toggleable__control:checked~label.sk-toggleable__label {background-color: #d4ebff;}#sk-container-id-1 div.sk-label input.sk-toggleable__control:checked~label.sk-toggleable__label {background-color: #d4ebff;}#sk-container-id-1 input.sk-hidden--visually {border: 0;clip: rect(1px 1px 1px 1px);clip: rect(1px, 1px, 1px, 1px);height: 1px;margin: -1px;overflow: hidden;padding: 0;position: absolute;width: 1px;}#sk-container-id-1 div.sk-estimator {font-family: monospace;background-color: #f0f8ff;border: 1px dotted black;border-radius: 0.25em;box-sizing: border-box;margin-bottom: 0.5em;}#sk-container-id-1 div.sk-estimator:hover {background-color: #d4ebff;}#sk-container-id-1 div.sk-parallel-item::after {content: \"\";width: 100%;border-bottom: 1px solid gray;flex-grow: 1;}#sk-container-id-1 div.sk-label:hover label.sk-toggleable__label {background-color: #d4ebff;}#sk-container-id-1 div.sk-serial::before {content: \"\";position: absolute;border-left: 1px solid gray;box-sizing: border-box;top: 0;bottom: 0;left: 50%;z-index: 0;}#sk-container-id-1 div.sk-serial {display: flex;flex-direction: column;align-items: center;background-color: white;padding-right: 0.2em;padding-left: 0.2em;position: relative;}#sk-container-id-1 div.sk-item {position: relative;z-index: 1;}#sk-container-id-1 div.sk-parallel {display: flex;align-items: stretch;justify-content: center;background-color: white;position: relative;}#sk-container-id-1 div.sk-item::before, #sk-container-id-1 div.sk-parallel-item::before {content: \"\";position: absolute;border-left: 1px solid gray;box-sizing: border-box;top: 0;bottom: 0;left: 50%;z-index: -1;}#sk-container-id-1 div.sk-parallel-item {display: flex;flex-direction: column;z-index: 1;position: relative;background-color: white;}#sk-container-id-1 div.sk-parallel-item:first-child::after {align-self: flex-end;width: 50%;}#sk-container-id-1 div.sk-parallel-item:last-child::after {align-self: flex-start;width: 50%;}#sk-container-id-1 div.sk-parallel-item:only-child::after {width: 0;}#sk-container-id-1 div.sk-dashed-wrapped {border: 1px dashed gray;margin: 0 0.4em 0.5em 0.4em;box-sizing: border-box;padding-bottom: 0.4em;background-color: white;}#sk-container-id-1 div.sk-label label {font-family: monospace;font-weight: bold;display: inline-block;line-height: 1.2em;}#sk-container-id-1 div.sk-label-container {text-align: center;}#sk-container-id-1 div.sk-container {/* jupyter's `normalize.less` sets `[hidden] { display: none; }` but bootstrap.min.css set `[hidden] { display: none !important; }` so we also need the `!important` here to be able to override the default hidden behavior on the sphinx rendered scikit-learn.org. See: https://github.com/scikit-learn/scikit-learn/issues/21755 */display: inline-block !important;position: relative;}#sk-container-id-1 div.sk-text-repr-fallback {display: none;}</style><div id=\"sk-container-id-1\" class=\"sk-top-container\"><div class=\"sk-text-repr-fallback\"><pre>RandomForestClassifier()</pre><b>In a Jupyter environment, please rerun this cell to show the HTML representation or trust the notebook. <br />On GitHub, the HTML representation is unable to render, please try loading this page with nbviewer.org.</b></div><div class=\"sk-container\" hidden><div class=\"sk-item\"><div class=\"sk-estimator sk-toggleable\"><input class=\"sk-toggleable__control sk-hidden--visually\" id=\"sk-estimator-id-1\" type=\"checkbox\" checked><label for=\"sk-estimator-id-1\" class=\"sk-toggleable__label sk-toggleable__label-arrow\">RandomForestClassifier</label><div class=\"sk-toggleable__content\"><pre>RandomForestClassifier()</pre></div></div></div></div></div>"
            ]
          },
          "metadata": {},
          "execution_count": 25
        }
      ]
    },
    {
      "cell_type": "markdown",
      "source": [
        "\n",
        "Predict Test Data"
      ],
      "metadata": {
        "id": "-kT7uhvodexV"
      }
    },
    {
      "cell_type": "code",
      "source": [
        "y_pred = rf.predict(X_test)"
      ],
      "metadata": {
        "id": "J6GtfO1Tdad1"
      },
      "execution_count": 26,
      "outputs": []
    },
    {
      "cell_type": "code",
      "source": [
        "y_pred"
      ],
      "metadata": {
        "colab": {
          "base_uri": "https://localhost:8080/"
        },
        "id": "J2Mw-ghTd58Z",
        "outputId": "f32ed586-064a-4fff-ddf0-fee392b8bb1c"
      },
      "execution_count": 27,
      "outputs": [
        {
          "output_type": "execute_result",
          "data": {
            "text/plain": [
              "array([4, 2, 2, 4, 4, 8, 5, 4, 2, 3, 7, 9, 0, 0, 1, 1, 9, 9, 9, 9, 0, 8,\n",
              "       6, 4, 5, 4, 2, 8, 3, 4, 3, 0, 7, 7, 2, 4, 9, 4, 1, 4, 4, 1, 2, 6,\n",
              "       4, 3, 1, 7, 5, 9, 1, 7, 3, 8, 8, 2, 9, 3, 9, 3, 0, 2, 2, 4, 2, 3,\n",
              "       3, 1, 2, 7, 4, 6, 6, 2, 9, 7, 4, 4, 6, 5, 7, 7, 4, 7, 3, 6, 2, 1,\n",
              "       0, 2, 6, 6, 6, 1, 8, 8, 0, 5, 2, 1, 7, 3, 8, 2, 9, 0, 5, 9, 8, 3,\n",
              "       3, 3, 0, 8, 4, 4, 6, 8, 9, 1, 0, 4, 3, 8, 7, 0, 6, 8, 3, 8, 3, 3,\n",
              "       2, 1, 4, 9, 7, 4, 8, 9, 1, 9, 3, 1, 6, 7, 0, 0, 1, 0, 4, 0, 5, 4,\n",
              "       6, 1, 3, 7, 9, 9, 1, 4, 3, 6, 7, 7, 0, 1, 8, 7, 0, 6, 1, 8, 7, 3,\n",
              "       9, 5, 4, 1, 5, 2, 8, 1, 0, 9, 3, 8, 0, 0, 7, 1, 9, 6, 6, 3, 1, 3,\n",
              "       6, 0, 5, 5, 7, 6, 6, 8, 4, 7, 4, 3, 1, 4, 9, 9, 1, 7, 0, 1, 8, 8,\n",
              "       1, 9, 5, 4, 5, 9, 1, 1, 7, 3, 5, 1, 8, 5, 8, 8, 8, 9, 1, 2, 8, 1,\n",
              "       6, 2, 6, 0, 8, 8, 9, 8, 8, 4, 0, 0, 7, 6, 1, 6, 1, 1, 5, 6, 9, 1,\n",
              "       7, 0, 9, 3, 7, 4, 2, 7, 5, 0, 8, 1, 9, 2, 8, 4, 2, 1, 5, 1, 4, 6,\n",
              "       0, 8, 3, 3, 1, 1, 6, 1, 0, 5, 7, 2, 7, 1, 2, 6, 8, 6, 0, 9, 1, 6,\n",
              "       8, 1, 2, 1, 0, 1, 3, 5, 5, 4, 1, 9, 8, 7, 8, 6, 2, 8, 4, 5, 9, 7,\n",
              "       2, 4, 1, 2, 9, 5, 0, 7, 2, 4, 4, 3, 5, 1, 7, 0, 7, 3, 9, 7, 6, 9,\n",
              "       3, 9, 4, 6, 6, 4, 7, 3, 3, 3, 8, 3, 9, 8, 5, 2, 7, 2, 9, 6, 9, 5,\n",
              "       2, 2, 7, 8, 1, 9, 0, 9, 6, 0, 3, 4, 2, 6, 6, 2, 8, 5, 1, 3, 8, 3,\n",
              "       9, 9, 8, 3, 5, 7, 3, 3, 2, 5, 9, 3, 4, 7, 2, 6, 4, 9, 4, 1, 7, 8,\n",
              "       8, 9, 4, 4, 2, 4, 0, 0, 9, 5, 2, 9, 7, 6, 2, 7, 6, 2, 9, 2, 1, 2,\n",
              "       6, 0, 2, 5, 8, 1, 9, 0, 6, 0, 7, 7, 6, 9, 9, 0, 9, 4, 5, 4, 9, 4,\n",
              "       0, 2, 0, 1, 0, 3, 6, 6, 2, 7, 9, 9, 1, 8, 6, 6, 4, 0, 5, 9, 1, 1,\n",
              "       3, 2, 7, 7, 1, 3, 7, 6, 4, 8, 0, 6, 2, 2, 1, 4, 2, 0, 2, 1, 8, 2,\n",
              "       4, 6, 2, 8, 4, 8, 6, 4, 2, 7, 2, 0, 5, 7, 4, 0, 7, 0, 7, 1, 0, 1,\n",
              "       5, 1, 6, 4, 0, 9, 3, 8, 3, 6, 5, 5])"
            ]
          },
          "metadata": {},
          "execution_count": 27
        }
      ]
    },
    {
      "cell_type": "markdown",
      "source": [
        "\n",
        "Model Accuracy"
      ],
      "metadata": {
        "id": "uqdvxqNIeBfD"
      }
    },
    {
      "cell_type": "code",
      "source": [
        "from sklearn.metrics import confusion_matrix, classification_report"
      ],
      "metadata": {
        "id": "b9w54s2Kd9RT"
      },
      "execution_count": 28,
      "outputs": []
    },
    {
      "cell_type": "code",
      "source": [
        "confusion_matrix(y_test, y_pred)"
      ],
      "metadata": {
        "colab": {
          "base_uri": "https://localhost:8080/"
        },
        "id": "3vi-usNDeFDr",
        "outputId": "077b259d-d88c-4843-e53a-48079d5ca121"
      },
      "execution_count": 29,
      "outputs": [
        {
          "output_type": "execute_result",
          "data": {
            "text/plain": [
              "array([[51,  0,  0,  0,  0,  0,  0,  0,  0,  0],\n",
              "       [ 0, 60,  0,  0,  0,  0,  0,  0,  0,  0],\n",
              "       [ 0,  0, 56,  0,  0,  0,  0,  0,  1,  0],\n",
              "       [ 0,  0,  0, 49,  0,  0,  0,  1,  0,  0],\n",
              "       [ 0,  0,  0,  0, 56,  0,  0,  0,  0,  0],\n",
              "       [ 0,  0,  0,  0,  1, 37,  1,  0,  0,  4],\n",
              "       [ 1,  0,  0,  0,  1,  0, 53,  0,  0,  0],\n",
              "       [ 0,  0,  0,  0,  0,  0,  0, 53,  0,  1],\n",
              "       [ 0,  5,  0,  1,  1,  0,  0,  0, 52,  0],\n",
              "       [ 0,  0,  0,  0,  0,  0,  0,  0,  1, 54]])"
            ]
          },
          "metadata": {},
          "execution_count": 29
        }
      ]
    },
    {
      "cell_type": "code",
      "source": [
        "print(classification_report(y_test, y_pred))"
      ],
      "metadata": {
        "colab": {
          "base_uri": "https://localhost:8080/"
        },
        "id": "8dB9UI7LeGvA",
        "outputId": "03d2c074-af7a-4a34-9602-83d2f1c55865"
      },
      "execution_count": 30,
      "outputs": [
        {
          "output_type": "stream",
          "name": "stdout",
          "text": [
            "              precision    recall  f1-score   support\n",
            "\n",
            "           0       0.98      1.00      0.99        51\n",
            "           1       0.92      1.00      0.96        60\n",
            "           2       1.00      0.98      0.99        57\n",
            "           3       0.98      0.98      0.98        50\n",
            "           4       0.95      1.00      0.97        56\n",
            "           5       1.00      0.86      0.92        43\n",
            "           6       0.98      0.96      0.97        55\n",
            "           7       0.98      0.98      0.98        54\n",
            "           8       0.96      0.88      0.92        59\n",
            "           9       0.92      0.98      0.95        55\n",
            "\n",
            "    accuracy                           0.96       540\n",
            "   macro avg       0.97      0.96      0.96       540\n",
            "weighted avg       0.97      0.96      0.96       540\n",
            "\n"
          ]
        }
      ]
    },
    {
      "cell_type": "code",
      "source": [],
      "metadata": {
        "id": "TXeNzQGReJqR"
      },
      "execution_count": null,
      "outputs": []
    }
  ]
}